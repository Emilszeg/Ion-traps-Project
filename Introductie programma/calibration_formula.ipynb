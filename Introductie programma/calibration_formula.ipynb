{
 "cells": [
  {
   "attachments": {},
   "cell_type": "markdown",
   "metadata": {},
   "source": [
    "$$\\lambda_p=S+A_1p+A_2p^2+A_3p^3$$"
   ]
  },
  {
   "cell_type": "code",
   "execution_count": 79,
   "metadata": {},
   "outputs": [],
   "source": [
    "import math\n",
    "import numpy as np\n",
    "from lmfit import models\n",
    "from scipy.optimize import fsolve\n",
    "import pandas as pd"
   ]
  },
  {
   "cell_type": "code",
   "execution_count": 80,
   "metadata": {},
   "outputs": [],
   "source": [
    "lamda_p=[585.25,614.31,640.23,650.75]\n",
    "lamda_p_error=[0.1,2,2,5]\n",
    "lamda_p_weight = 1/(np.array(lamda_p_error))\n",
    "p=[1736.72,2198.79,2756.45,2968.9]\n",
    "p_error=[18,20,20,20]\n",
    "p_weight =1/(np.array(p_error))"
   ]
  },
  {
   "cell_type": "code",
   "execution_count": 81,
   "metadata": {},
   "outputs": [
    {
     "data": {
      "text/html": [
       "<div>\n",
       "<style scoped>\n",
       "    .dataframe tbody tr th:only-of-type {\n",
       "        vertical-align: middle;\n",
       "    }\n",
       "\n",
       "    .dataframe tbody tr th {\n",
       "        vertical-align: top;\n",
       "    }\n",
       "\n",
       "    .dataframe thead th {\n",
       "        text-align: right;\n",
       "    }\n",
       "</style>\n",
       "<table border=\"1\" class=\"dataframe\">\n",
       "  <thead>\n",
       "    <tr style=\"text-align: right;\">\n",
       "      <th></th>\n",
       "      <th>lamda_p</th>\n",
       "      <th>lamda_weight</th>\n",
       "      <th>p</th>\n",
       "      <th>p_weight</th>\n",
       "    </tr>\n",
       "  </thead>\n",
       "  <tbody>\n",
       "    <tr>\n",
       "      <th>0</th>\n",
       "      <td>585.25</td>\n",
       "      <td>10.0</td>\n",
       "      <td>1736.72</td>\n",
       "      <td>0.055556</td>\n",
       "    </tr>\n",
       "    <tr>\n",
       "      <th>1</th>\n",
       "      <td>614.31</td>\n",
       "      <td>0.5</td>\n",
       "      <td>2198.79</td>\n",
       "      <td>0.050000</td>\n",
       "    </tr>\n",
       "    <tr>\n",
       "      <th>2</th>\n",
       "      <td>640.23</td>\n",
       "      <td>0.5</td>\n",
       "      <td>2756.45</td>\n",
       "      <td>0.050000</td>\n",
       "    </tr>\n",
       "    <tr>\n",
       "      <th>3</th>\n",
       "      <td>650.75</td>\n",
       "      <td>0.2</td>\n",
       "      <td>2968.90</td>\n",
       "      <td>0.050000</td>\n",
       "    </tr>\n",
       "  </tbody>\n",
       "</table>\n",
       "</div>"
      ],
      "text/plain": [
       "   lamda_p  lamda_weight        p  p_weight\n",
       "0   585.25          10.0  1736.72  0.055556\n",
       "1   614.31           0.5  2198.79  0.050000\n",
       "2   640.23           0.5  2756.45  0.050000\n",
       "3   650.75           0.2  2968.90  0.050000"
      ]
     },
     "execution_count": 81,
     "metadata": {},
     "output_type": "execute_result"
    }
   ],
   "source": [
    "df = pd.DataFrame({'lamda_p': lamda_p,\n",
    "                    'lamda_weight':lamda_p_weight,\n",
    "                    'p':p,\n",
    "                    'p_weight':p_weight})\n",
    "df"
   ]
  },
  {
   "cell_type": "code",
   "execution_count": 82,
   "metadata": {},
   "outputs": [
    {
     "data": {
      "text/plain": [
       "(0.0, 700.0)"
      ]
     },
     "execution_count": 82,
     "metadata": {},
     "output_type": "execute_result"
    },
    {
     "data": {
      "image/png": "[encoded data removed]",
      "text/plain": [
       "<Figure size 640x480 with 1 Axes>"
      ]
     },
     "metadata": {},
     "output_type": "display_data"
    }
   ],
   "source": [
    "ax = df.plot.scatter('p', 'lamda_p',xerr=p_error,yerr=lamda_p_error)\n",
    "\n",
    "# Set axis labels\n",
    "ax.set_xlabel('aantal pixels')\n",
    "ax.set_ylabel('golflengte (nm)')\n",
    "\n",
    "# Set axis view limits\n",
    "ax.set_xlim(1500, 3000)\n",
    "ax.set_ylim(0, 700)"
   ]
  },
  {
   "cell_type": "code",
   "execution_count": 83,
   "metadata": {},
   "outputs": [],
   "source": [
    "def formule(S,p,A_1,A_2,A_3):\n",
    "    lamda_p=S+A_1 *p + A_2*p**2 +A_3*p**3 \n",
    "    return lamda_p\n",
    "curve_model= models.Model(formule)"
   ]
  },
  {
   "cell_type": "code",
   "execution_count": 84,
   "metadata": {},
   "outputs": [
    {
     "ename": "TypeError",
     "evalue": "'>' not supported between instances of 'list' and 'float'",
     "output_type": "error",
     "traceback": [
      "\u001b[1;31m---------------------------------------------------------------------------\u001b[0m",
      "\u001b[1;31mTypeError\u001b[0m                                 Traceback (most recent call last)",
      "Cell \u001b[1;32mIn[84], line 1\u001b[0m\n\u001b[1;32m----> 1\u001b[0m fit_reuslt\u001b[39m=\u001b[39mcurve_model\u001b[39m.\u001b[39;49mfit(lamda_p,p\u001b[39m=\u001b[39;49mp,weights\u001b[39m=\u001b[39;49mp_weight, S\u001b[39m=\u001b[39;49m\u001b[39m230\u001b[39;49m,A_1\u001b[39m=\u001b[39;49m\u001b[39m0.4\u001b[39;49m,A_2\u001b[39m=\u001b[39;49m\u001b[39m0.001\u001b[39;49m,A_3\u001b[39m=\u001b[39;49m\u001b[39m0.00000001\u001b[39;49m)\n",
      "File \u001b[1;32mc:\\Users\\mexro\\anaconda3\\envs\\nsp1\\lib\\site-packages\\lmfit\\model.py:988\u001b[0m, in \u001b[0;36mModel.fit\u001b[1;34m(self, data, params, weights, method, iter_cb, scale_covar, verbose, fit_kws, nan_policy, calc_covar, max_nfev, **kwargs)\u001b[0m\n\u001b[0;32m    986\u001b[0m         params[name] \u001b[39m=\u001b[39m deepcopy(p)\n\u001b[0;32m    987\u001b[0m     \u001b[39melse\u001b[39;00m:\n\u001b[1;32m--> 988\u001b[0m         params[name]\u001b[39m.\u001b[39;49mset(value\u001b[39m=\u001b[39;49mp)\n\u001b[0;32m    989\u001b[0m     \u001b[39mdel\u001b[39;00m kwargs[name]\n\u001b[0;32m    991\u001b[0m \u001b[39m# All remaining kwargs should correspond to independent variables.\u001b[39;00m\n",
      "File \u001b[1;32mc:\\Users\\mexro\\anaconda3\\envs\\nsp1\\lib\\site-packages\\lmfit\\parameter.py:667\u001b[0m, in \u001b[0;36mParameter.set\u001b[1;34m(self, value, vary, min, max, expr, brute_step)\u001b[0m\n\u001b[0;32m    664\u001b[0m \u001b[39m# need to set this after min and max, so that it will use new\u001b[39;00m\n\u001b[0;32m    665\u001b[0m \u001b[39m# bounds in the setter for value\u001b[39;00m\n\u001b[0;32m    666\u001b[0m \u001b[39mif\u001b[39;00m value \u001b[39mis\u001b[39;00m \u001b[39mnot\u001b[39;00m \u001b[39mNone\u001b[39;00m:\n\u001b[1;32m--> 667\u001b[0m     \u001b[39mself\u001b[39;49m\u001b[39m.\u001b[39;49mvalue \u001b[39m=\u001b[39m value\n\u001b[0;32m    668\u001b[0m     \u001b[39mself\u001b[39m\u001b[39m.\u001b[39m__set_expression(\u001b[39m\"\u001b[39m\u001b[39m\"\u001b[39m)\n\u001b[0;32m    670\u001b[0m \u001b[39mif\u001b[39;00m expr \u001b[39mis\u001b[39;00m \u001b[39mnot\u001b[39;00m \u001b[39mNone\u001b[39;00m:\n",
      "File \u001b[1;32mc:\\Users\\mexro\\anaconda3\\envs\\nsp1\\lib\\site-packages\\lmfit\\parameter.py:822\u001b[0m, in \u001b[0;36mParameter.value\u001b[1;34m(self, val)\u001b[0m\n\u001b[0;32m    820\u001b[0m \u001b[39mself\u001b[39m\u001b[39m.\u001b[39m_val \u001b[39m=\u001b[39m val\n\u001b[0;32m    821\u001b[0m \u001b[39mif\u001b[39;00m \u001b[39mself\u001b[39m\u001b[39m.\u001b[39m_val \u001b[39mis\u001b[39;00m \u001b[39mnot\u001b[39;00m \u001b[39mNone\u001b[39;00m:\n\u001b[1;32m--> 822\u001b[0m     \u001b[39mif\u001b[39;00m \u001b[39mself\u001b[39;49m\u001b[39m.\u001b[39;49m_val \u001b[39m>\u001b[39;49m \u001b[39mself\u001b[39;49m\u001b[39m.\u001b[39;49mmax:\n\u001b[0;32m    823\u001b[0m         \u001b[39mself\u001b[39m\u001b[39m.\u001b[39m_val \u001b[39m=\u001b[39m \u001b[39mself\u001b[39m\u001b[39m.\u001b[39mmax\n\u001b[0;32m    824\u001b[0m     \u001b[39melif\u001b[39;00m \u001b[39mself\u001b[39m\u001b[39m.\u001b[39m_val \u001b[39m<\u001b[39m \u001b[39mself\u001b[39m\u001b[39m.\u001b[39mmin:\n",
      "\u001b[1;31mTypeError\u001b[0m: '>' not supported between instances of 'list' and 'float'"
     ]
    }
   ],
   "source": [
    "fit_reuslt=curve_model.fit(lamda_p,p=p,weights=p_weight, S=230,A_1=0.4,A_2=0.001,A_3=0.00000001)"
   ]
  }
 ],
 "metadata": {
  "language_info": {
   "name": "python"
  },
  "orig_nbformat": 4
 },
 "nbformat": 4,
 "nbformat_minor": 2
}
