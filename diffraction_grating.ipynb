{
 "cells": [
  {
   "attachments": {},
   "cell_type": "markdown",
   "metadata": {},
   "source": [
    "Voor de diffraction grating gebruiken we formule 1 uit brekke 2015;\n",
    "$$m\\lambda=a(sin(\\theta _m)-sin(\\theta _i))$$\n",
    "waarbij m de diffraction order is, \n",
    "$\\lambda$ de golflengte, \n",
    "$a$ de groove spacing/line density,\n",
    "$\\theta _m$ de hoek van de difractie en $\\theta _i$ de hoek tussen het inkomend licht en de grating normal."
   ]
  },
  {
   "cell_type": "code",
   "execution_count": 75,
   "metadata": {},
   "outputs": [],
   "source": [
    "import numpy as np\n",
    "from math import asin, sin"
   ]
  },
  {
   "cell_type": "code",
   "execution_count": 76,
   "metadata": {},
   "outputs": [
    {
     "name": "stdout",
     "output_type": "stream",
     "text": [
      "[0.75049158 0.82030475] [-0.08726646 -0.26179939]\n"
     ]
    }
   ],
   "source": [
    "#variables#\n",
    "m=1\n",
    "alpha_deg=45\n",
    "alpha_error= [43, 47]\n",
    "alpha_error_rad = np.array(alpha_error)*2*np.pi/360\n",
    "alpha_rad = alpha_deg*2*np.pi/360\n",
    "a=10**-6\n",
    "wavelength=400*10**-9\n",
    "beta_deg=-10\n",
    "beta_error=[-5,-15]\n",
    "beta_error_rad=np.array(beta_error)*2*np.pi/360\n",
    "beta_rad = beta_deg*2*np.pi/360\n",
    "print(alpha_error_rad, beta_error_rad)"
   ]
  },
  {
   "cell_type": "code",
   "execution_count": 77,
   "metadata": {},
   "outputs": [
    {
     "name": "stdout",
     "output_type": "stream",
     "text": [
      "(7.498238801678462e-07, 7.830764652412998e-07, 3.2429863867233467e-07, [6.72446775595244e-07, 6.209271459051325e-07, 9.452257845774672e-07, 6.72446775595244e-07])\n"
     ]
    }
   ],
   "source": [
    "def beta_formule(m,lamda,d_0,alpha):\n",
    "\n",
    "    beta=asin(m*lamda/d_0-sin(alpha))\n",
    "    beta = beta*360/(2*np.pi)\n",
    "    return beta\n",
    "def line_density(m,lamda,alpha,beta, alpha_error, beta_error):\n",
    "    d_0=m*lamda/(sin(alpha)+sin(beta))\n",
    "    alpha_low = alpha_error[0] \n",
    "    alpha_high=alpha_error[1]\n",
    "    beta_low=beta_error[0] \n",
    "    beta_high=beta_error[1]\n",
    "    \n",
    "    #de kleinste en grootste mogelijke error bepalen via een list.\n",
    "    d_0_error_list=[]\n",
    "    d_0_low_1=m*lamda/(sin(alpha_low)+sin(beta_low))\n",
    "    d_0_error_list.append(d_0_low_1)\n",
    "    d_0_low_2=m*lamda/(sin(alpha_high)+sin(beta_low))\n",
    "    d_0_error_list.append(d_0_low_2)\n",
    "    d_0_low_3=m*lamda/(sin(alpha_low)+sin(beta_high))\n",
    "    d_0_error_list.append(d_0_low_3)\n",
    "    d_0_low_4=m*lamda/(sin(alpha_low)+sin(beta_low))\n",
    "    d_0_error_list.append(d_0_low_4)\n",
    "\n",
    "\n",
    "    d_0_highest= max(d_0_error_list)\n",
    "    d_0_lowest=min(d_0_error_list)\n",
    "    d_0_mean = (d_0_highest+d_0_lowest)/2\n",
    "    d_0_error = d_0_highest-d_0_lowest\n",
    "    return d_0,d_0_mean,d_0_error,d_0_error_list\n",
    "print(line_density(m,wavelength,alpha_rad,beta_rad,alpha_error_rad,beta_error_rad))"
   ]
  }
 ],
 "metadata": {
  "kernelspec": {
   "display_name": "base",
   "language": "python",
   "name": "python3"
  },
  "language_info": {
   "codemirror_mode": {
    "name": "ipython",
    "version": 3
   },
   "file_extension": ".py",
   "mimetype": "text/x-python",
   "name": "python",
   "nbconvert_exporter": "python",
   "pygments_lexer": "ipython3",
   "version": "3.10.9"
  },
  "orig_nbformat": 4
 },
 "nbformat": 4,
 "nbformat_minor": 2
}
